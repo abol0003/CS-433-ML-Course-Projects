{
 "cells": [
  {
   "cell_type": "code",
   "execution_count": null,
   "id": "b3372ff7",
   "metadata": {},
   "outputs": [
    {
     "data": {
      "text/plain": [
       "8"
      ]
     },
     "execution_count": 2,
     "metadata": {},
     "output_type": "execute_result"
    }
   ],
   "source": []
  },
  {
   "cell_type": "code",
   "execution_count": 5,
   "id": "9e2a8eda",
   "metadata": {},
   "outputs": [],
   "source": [
    "import sys\n",
    "import os\n",
    "\n",
    "# Add parent directory to path\n",
    "sys.path.insert(0, os.path.abspath('..'))\n",
    "\n",
    "import helpers \n",
    "import config \n",
    "import numpy as np"
   ]
  },
  {
   "cell_type": "code",
   "execution_count": null,
   "id": "78a24413",
   "metadata": {},
   "outputs": [
    {
     "name": "stdout",
     "output_type": "stream",
     "text": [
      "Arrays in npz file: ['X_train', 'X_test', 'y_train', 'train_ids', 'test_ids']\n",
      "\n",
      "X_train: shape=(328135, 321), dtype=float64\n",
      "X_train: shape=(328135, 321), dtype=float64\n",
      "X_test: shape=(109379, 321), dtype=float64\n",
      "y_train: shape=(328135,), dtype=int64\n",
      "train_ids: shape=(328135,), dtype=int64\n",
      "test_ids: shape=(109379,), dtype=int64\n",
      "X_test: shape=(109379, 321), dtype=float64\n",
      "y_train: shape=(328135,), dtype=int64\n",
      "train_ids: shape=(328135,), dtype=int64\n",
      "test_ids: shape=(109379,), dtype=int64\n"
     ]
    }
   ],
   "source": [
    "# Load from parent directory\n",
    "raw_data_path = os.path.join('..', config.RAW_DATA)\n",
    "npz = np.load(raw_data_path) \n",
    "\n",
    "# See what arrays are stored in the npz file\n",
    "print(\"Arrays in npz file:\", npz.files)\n",
    "print()\n",
    "\n",
    "# Get info about each array\n",
    "for name in npz.files:\n",
    "    array = npz[name]\n",
    "    print(f\"{name}: shape={array.shape}, dtype={array.dtype}\")"
   ]
  },
  {
   "cell_type": "code",
   "execution_count": null,
   "id": "c53c6729",
   "metadata": {},
   "outputs": [],
   "source": [
    "X_train = npz[\"X_train\"]\n",
    "y_train = npz[\"y_train\"]"
   ]
  },
  {
   "cell_type": "code",
   "execution_count": 11,
   "id": "003a4b48",
   "metadata": {},
   "outputs": [
    {
     "data": {
      "text/plain": [
       "array([-1, -1, -1, ..., -1, -1, -1], shape=(328135,))"
      ]
     },
     "execution_count": 11,
     "metadata": {},
     "output_type": "execute_result"
    }
   ],
   "source": [
    "y_train"
   ]
  },
  {
   "cell_type": "code",
   "execution_count": 12,
   "id": "ec4fcb53",
   "metadata": {},
   "outputs": [
    {
     "name": "stdout",
     "output_type": "stream",
     "text": [
      "Class Distribution:\n",
      "----------------------------------------\n",
      "Class -1: 299160 samples (91.17%)\n",
      "Class +1:  28975 samples ( 8.83%)\n",
      "----------------------------------------\n",
      "Total:      328135 samples\n",
      "\n",
      "Imbalance ratio: 10.32:1\n",
      "Minority class (1): 28975 samples\n",
      "Majority class (-1): 299160 samples\n"
     ]
    }
   ],
   "source": [
    "# Check class distribution\n",
    "unique, counts = np.unique(y_train, return_counts=True)\n",
    "\n",
    "print(\"Class Distribution:\")\n",
    "print(\"-\" * 40)\n",
    "for label, count in zip(unique, counts):\n",
    "    percentage = (count / len(y_train)) * 100\n",
    "    print(f\"Class {label:+2d}: {count:6d} samples ({percentage:5.2f}%)\")\n",
    "\n",
    "print(\"-\" * 40)\n",
    "print(f\"Total:      {len(y_train):6d} samples\")\n",
    "\n",
    "# Calculate imbalance ratio\n",
    "if len(unique) == 2:\n",
    "    imbalance_ratio = max(counts) / min(counts)\n",
    "    print(f\"\\nImbalance ratio: {imbalance_ratio:.2f}:1\")\n",
    "    print(f\"Minority class ({unique[np.argmin(counts)]}): {min(counts)} samples\")\n",
    "    print(f\"Majority class ({unique[np.argmax(counts)]}): {max(counts)} samples\")"
   ]
  },
  {
   "cell_type": "code",
   "execution_count": null,
   "id": "18679b57",
   "metadata": {},
   "outputs": [],
   "source": []
  }
 ],
 "metadata": {
  "kernelspec": {
   "display_name": "ada",
   "language": "python",
   "name": "python3"
  },
  "language_info": {
   "codemirror_mode": {
    "name": "ipython",
    "version": 3
   },
   "file_extension": ".py",
   "mimetype": "text/x-python",
   "name": "python",
   "nbconvert_exporter": "python",
   "pygments_lexer": "ipython3",
   "version": "3.13.7"
  }
 },
 "nbformat": 4,
 "nbformat_minor": 5
}
