{
 "cells": [
  {
   "cell_type": "code",
   "execution_count": 80,
   "id": "9e2a8eda",
   "metadata": {},
   "outputs": [],
   "source": [
    "import helpers \n",
    "import config \n",
    "import numpy as np"
   ]
  },
  {
   "cell_type": "code",
   "execution_count": 81,
   "id": "78a24413",
   "metadata": {},
   "outputs": [],
   "source": [
    "x_train, x_test, y_train_pm1, train_ids, test_ids = helpers.load_csv_data(config.DATA_DIR)"
   ]
  },
  {
   "cell_type": "code",
   "execution_count": 14,
   "id": "c53c6729",
   "metadata": {},
   "outputs": [],
   "source": [
    "import pandas as pd\n",
    "\n",
    "Xtr_df = pd.DataFrame(x_train)"
   ]
  },
  {
   "cell_type": "code",
   "execution_count": 83,
   "id": "ec4fcb53",
   "metadata": {},
   "outputs": [
    {
     "name": "stdout",
     "output_type": "stream",
     "text": [
      "1.0 (13873)\n",
      "2.0 (7906)\n",
      "3.0 (3589)\n",
      "4.0 (3411)\n",
      "5.0 (2496)\n",
      "6.0 (877)\n",
      "7.0 (494)\n",
      "8.0 (830)\n",
      "9.0 (64)\n",
      "10.0 (1181)\n",
      "11.0 (12)\n",
      "12.0 (277)\n",
      "13.0 (15)\n",
      "14.0 (67)\n",
      "15.0 (581)\n",
      "16.0 (36)\n",
      "17.0 (8)\n",
      "18.0 (20)\n",
      "19.0 (4)\n",
      "20.0 (436)\n",
      "21.0 (13)\n",
      "22.0 (8)\n",
      "23.0 (10)\n",
      "24.0 (25)\n",
      "25.0 (163)\n",
      "26.0 (17)\n",
      "27.0 (13)\n",
      "28.0 (43)\n",
      "29.0 (27)\n",
      "30.0 (1195)\n",
      "31.0 (4)\n",
      "32.0 (1)\n",
      "35.0 (1)\n",
      "36.0 (2)\n",
      "40.0 (3)\n",
      "50.0 (1)\n",
      "55.0 (2)\n",
      "56.0 (1)\n",
      "60.0 (1)\n",
      "76.0 (4)\n",
      "77.0 (1730)\n",
      "88.0 (117010)\n",
      "99.0 (472)\n",
      "nan (171212)\n"
     ]
    }
   ],
   "source": [
    "np.set_printoptions(suppress=True)\n",
    "unique, counts = np.unique(x_train[:, 79], return_counts=True)\n",
    "for val, count in zip(unique, counts):\n",
    "    print(f\"{val} ({count})\")"
   ]
  },
  {
   "cell_type": "code",
   "execution_count": null,
   "id": "18679b57",
   "metadata": {},
   "outputs": [],
   "source": []
  }
 ],
 "metadata": {
  "kernelspec": {
   "display_name": "ada",
   "language": "python",
   "name": "python3"
  },
  "language_info": {
   "codemirror_mode": {
    "name": "ipython",
    "version": 3
   },
   "file_extension": ".py",
   "mimetype": "text/x-python",
   "name": "python",
   "nbconvert_exporter": "python",
   "pygments_lexer": "ipython3",
   "version": "3.13.7"
  }
 },
 "nbformat": 4,
 "nbformat_minor": 5
}
